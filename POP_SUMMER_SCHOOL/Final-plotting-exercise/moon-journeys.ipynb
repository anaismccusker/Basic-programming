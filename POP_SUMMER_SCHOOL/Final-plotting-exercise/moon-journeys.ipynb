{
  "cells": [
    {
      "cell_type": "markdown",
      "id": "380b07a1",
      "metadata": {
        "id": "380b07a1"
      },
      "source": [
        "# Run this cell first"
      ]
    },
    {
      "cell_type": "code",
      "execution_count": 1,
      "id": "f1bb8180",
      "metadata": {
        "id": "f1bb8180",
        "outputId": "8b2171cc-e6c5-4410-c092-19c9e1067251",
        "colab": {
          "base_uri": "https://localhost:8080/"
        }
      },
      "outputs": [
        {
          "output_type": "stream",
          "name": "stdout",
          "text": [
            "Collecting AutoFeedback\n",
            "  Downloading AutoFeedback-2.17-py3-none-any.whl.metadata (2.9 kB)\n",
            "Requirement already satisfied: numpy in /usr/local/lib/python3.11/dist-packages (from AutoFeedback) (1.26.4)\n",
            "Requirement already satisfied: scipy in /usr/local/lib/python3.11/dist-packages (from AutoFeedback) (1.13.1)\n",
            "Requirement already satisfied: multipledispatch in /usr/local/lib/python3.11/dist-packages (from AutoFeedback) (1.0.0)\n",
            "Requirement already satisfied: pyyaml in /usr/local/lib/python3.11/dist-packages (from AutoFeedback) (6.0.2)\n",
            "Requirement already satisfied: sympy in /usr/local/lib/python3.11/dist-packages (from AutoFeedback) (1.13.1)\n",
            "Requirement already satisfied: matplotlib in /usr/local/lib/python3.11/dist-packages (from AutoFeedback) (3.10.0)\n",
            "Requirement already satisfied: contourpy>=1.0.1 in /usr/local/lib/python3.11/dist-packages (from matplotlib->AutoFeedback) (1.3.1)\n",
            "Requirement already satisfied: cycler>=0.10 in /usr/local/lib/python3.11/dist-packages (from matplotlib->AutoFeedback) (0.12.1)\n",
            "Requirement already satisfied: fonttools>=4.22.0 in /usr/local/lib/python3.11/dist-packages (from matplotlib->AutoFeedback) (4.56.0)\n",
            "Requirement already satisfied: kiwisolver>=1.3.1 in /usr/local/lib/python3.11/dist-packages (from matplotlib->AutoFeedback) (1.4.8)\n",
            "Requirement already satisfied: packaging>=20.0 in /usr/local/lib/python3.11/dist-packages (from matplotlib->AutoFeedback) (24.2)\n",
            "Requirement already satisfied: pillow>=8 in /usr/local/lib/python3.11/dist-packages (from matplotlib->AutoFeedback) (11.1.0)\n",
            "Requirement already satisfied: pyparsing>=2.3.1 in /usr/local/lib/python3.11/dist-packages (from matplotlib->AutoFeedback) (3.2.1)\n",
            "Requirement already satisfied: python-dateutil>=2.7 in /usr/local/lib/python3.11/dist-packages (from matplotlib->AutoFeedback) (2.8.2)\n",
            "Requirement already satisfied: mpmath<1.4,>=1.1.0 in /usr/local/lib/python3.11/dist-packages (from sympy->AutoFeedback) (1.3.0)\n",
            "Requirement already satisfied: six>=1.5 in /usr/local/lib/python3.11/dist-packages (from python-dateutil>=2.7->matplotlib->AutoFeedback) (1.17.0)\n",
            "Downloading AutoFeedback-2.17-py3-none-any.whl (32 kB)\n",
            "Installing collected packages: AutoFeedback\n",
            "Successfully installed AutoFeedback-2.17\n",
            "Collecting git+https://github.com/autofeedback-exercises/exercises.git#subdirectory=POP_SUMMER_SCHOOL/Final-plotting-exercise\n",
            "  Cloning https://github.com/autofeedback-exercises/exercises.git to /tmp/pip-req-build-f9lvbku2\n",
            "  Running command git clone --filter=blob:none --quiet https://github.com/autofeedback-exercises/exercises.git /tmp/pip-req-build-f9lvbku2\n",
            "  Resolved https://github.com/autofeedback-exercises/exercises.git to commit 92062353e496957327104b23a6a42ebf7e6d10aa\n",
            "  Preparing metadata (setup.py) ... \u001b[?25l\u001b[?25hdone\n",
            "Requirement already satisfied: numpy in /usr/local/lib/python3.11/dist-packages (from testsrc==1.0) (1.26.4)\n",
            "Building wheels for collected packages: testsrc\n",
            "  Building wheel for testsrc (setup.py) ... \u001b[?25l\u001b[?25hdone\n",
            "  Created wheel for testsrc: filename=testsrc-1.0-py3-none-any.whl size=2160 sha256=2a7047f8073d4f035d1cc1f0d1e3a6cc1acee76facf334c503fcd20da0179c2b\n",
            "  Stored in directory: /tmp/pip-ephem-wheel-cache-vkm1mvb2/wheels/6d/19/2c/b383895d40d15d6628877026efa0f2f15e1722cbc1de1d1a0d\n",
            "Successfully built testsrc\n",
            "Installing collected packages: testsrc\n",
            "Successfully installed testsrc-1.0\n"
          ]
        }
      ],
      "source": [
        "# @title\n",
        "# this code enables the automated feedback. If you remove this, you won't get any feedback\n",
        "# so don't delete this cell!\n",
        "try:\n",
        "  import AutoFeedback\n",
        "except (ModuleNotFoundError, ImportError):\n",
        "  %pip install AutoFeedback\n",
        "  import AutoFeedback\n",
        "\n",
        "try:\n",
        "  from testsrc import test_main\n",
        "except (ModuleNotFoundError, ImportError):\n",
        "  %pip install \"git+https://github.com/autofeedback-exercises/exercises.git#subdirectory=POP_SUMMER_SCHOOL/Final-plotting-exercise\"\n",
        "  from testsrc import test_main\n",
        "\n",
        "def runtest(tlist):\n",
        "  import unittest\n",
        "  from contextlib import redirect_stderr\n",
        "  from os import devnull\n",
        "  with redirect_stderr(open(devnull, 'w')):\n",
        "    suite = unittest.TestSuite()\n",
        "    for tname in tlist:\n",
        "      suite.addTest(eval(f\"test_main.UnitTests.{tname}\"))\n",
        "    runner = unittest.TextTestRunner()\n",
        "    try:\n",
        "      runner.run(suite)\n",
        "    except AssertionError:\n",
        "      pass"
      ]
    },
    {
      "cell_type": "markdown",
      "id": "0452a2ae",
      "metadata": {
        "id": "0452a2ae"
      },
      "source": [
        "# Introduction\n",
        "\n",
        "The exercises in this notebook are designed to accompany the quiz on travelling on the moon. As you saw in the last of these exercises you can use, python to help you with your homework.\n",
        "\n",
        "You need to start by executing the following cell, which imports the libraries that we need."
      ]
    },
    {
      "cell_type": "code",
      "execution_count": 2,
      "id": "1c790db1",
      "metadata": {
        "id": "1c790db1"
      },
      "outputs": [],
      "source": [
        "import matplotlib.pyplot as plt\n",
        "import numpy as np"
      ]
    },
    {
      "cell_type": "markdown",
      "id": "089d1f8c",
      "metadata": {
        "id": "089d1f8c"
      },
      "source": [
        "## Exercise 1\n",
        "\n",
        "The notes on temperatures at different lattitudes on the moon have finally brought us to the following equation for the temperature on the moon:\n",
        "\n",
        "$$\n",
        "(1-\\alpha)\\frac{S_0}{d^2}\\cos(\\lambda)\\cos(15(t-12)) = \\epsilon \\sigma T^4\n",
        "$$\n",
        "\n",
        "In this expression, $\\sigma$ is the Stefan-Boltzmann constant which has a value of $5.67 \\times 10^{-8}$ W m$^{-2}$ K$^{-4}$, $\\alpha$ is the albedo, $\\epsilon$ is the emissivity.  For the moon the values of these constants are:\n",
        "\n",
        "$$\n",
        "\\alpha = 0.12 \\qquad \\textrm{and} \\qquad \\epsilon=0.98\n",
        "$$\n",
        "\n",
        "For the moon, we can also assume that $\\frac{S_0}{d^2} = 1361$ W/m$^2$.\n",
        "\n",
        "By rearranging the expression above and inserting these constants we can thus derive an expression for the temperature on the moon as a function of:\n",
        "\n",
        "* $t$ - the time of day\n",
        "* $\\lambda$ - The lattitude on the moon\n",
        "\n",
        "Your task for this first exercise is to write a function called `moon_temperature` that takes in the two arguments above and that returns the temperature at the temperature on the moon at that time of day and at the lattitude specified.  The first argument to your function should be the time of day and the second argument should be the lattitude.\n",
        "\n",
        "You should be able to use this function to answer question 1 on the quiz.\n",
        "\n"
      ]
    },
    {
      "cell_type": "code",
      "execution_count": 41,
      "id": "155ecad1",
      "metadata": {
        "id": "155ecad1"
      },
      "outputs": [],
      "source": [
        "import numpy as np\n",
        "def moon_temperature( t, lambda_ ) :\n",
        "  sigma = 5.67e-8\n",
        "  alpha = 0.12\n",
        "  epsilon = 0.98\n",
        "  S0_over_d2 = 1361\n",
        "  temperature =  (((1-alpha) * S0_over_d2 * np.cos(np.deg2rad(lambda_)) * np.cos(np.deg2rad(15 * (t-12))))/ (epsilon * sigma)) ** 0.25\n",
        "  return temperature"
      ]
    },
    {
      "cell_type": "code",
      "execution_count": 42,
      "id": "fbcc495f",
      "metadata": {
        "id": "fbcc495f",
        "outputId": "326f37b6-c007-46ba-b654-ed9cee267b4a",
        "colab": {
          "base_uri": "https://localhost:8080/"
        }
      },
      "outputs": [
        {
          "output_type": "stream",
          "name": "stdout",
          "text": [
            "\u001b[92mFunction, moon_temperature is correct!              \n",
            "\u001b[0m\n",
            "\u001b[93m==============================\n",
            "\u001b[0m\n"
          ]
        }
      ],
      "source": [
        "runtest([\"test_ex1\"])"
      ]
    },
    {
      "cell_type": "markdown",
      "id": "ebf4ec3d",
      "metadata": {
        "id": "ebf4ec3d"
      },
      "source": [
        "## Exercise 2\n",
        "\n",
        "Lets now suppose that there is a base at a lattitude of 30 degrees.  Can you use the function from the previous section that shows how the temperature at this location changes over the course of a Lunar Day that starts at 07:00 and finishes at 17:00. You should calculate the temperature on every hour of that day. You will thus need to create a NumPy array that contains all the integers that are greater than or equal to 7 and less than or equal to 17.\n",
        "\n",
        "Once you have created this NumPy array you will use the formulas (or the function) from the previous exerecise to create a second NumPy array that contains the temperatures at each of those times of day.\n",
        "You should then be able to plot a graph that has the temperatures on the y-axis and the times of day on the x-axis. The axes on this graph should be labelled. The x-axis label will be \"time of day\", the y-axis label will be \"Temperature at lattitude of 30 degrees / K.\""
      ]
    },
    {
      "cell_type": "code",
      "execution_count": 38,
      "id": "2338db99",
      "metadata": {
        "id": "2338db99",
        "outputId": "794bc292-9819-4125-d892-87e826884da8",
        "colab": {
          "base_uri": "https://localhost:8080/",
          "height": 217
        }
      },
      "outputs": [
        {
          "output_type": "error",
          "ename": "NameError",
          "evalue": "name 'alpha' is not defined",
          "traceback": [
            "\u001b[0;31m---------------------------------------------------------------------------\u001b[0m",
            "\u001b[0;31mNameError\u001b[0m                                 Traceback (most recent call last)",
            "\u001b[0;32m<ipython-input-38-b0c149dc7488>\u001b[0m in \u001b[0;36m<cell line: 0>\u001b[0;34m()\u001b[0m\n\u001b[1;32m     11\u001b[0m \u001b[0;34m\u001b[0m\u001b[0m\n\u001b[1;32m     12\u001b[0m \u001b[0mtime_angle\u001b[0m \u001b[0;34m=\u001b[0m \u001b[0mnp\u001b[0m\u001b[0;34m.\u001b[0m\u001b[0mdeg2rad\u001b[0m\u001b[0;34m(\u001b[0m\u001b[0;36m15\u001b[0m \u001b[0;34m*\u001b[0m \u001b[0;34m(\u001b[0m\u001b[0mt\u001b[0m\u001b[0;34m-\u001b[0m\u001b[0;36m12\u001b[0m\u001b[0;34m)\u001b[0m\u001b[0;34m)\u001b[0m\u001b[0;34m\u001b[0m\u001b[0;34m\u001b[0m\u001b[0m\n\u001b[0;32m---> 13\u001b[0;31m \u001b[0mtemperature\u001b[0m \u001b[0;34m=\u001b[0m \u001b[0;34m(\u001b[0m \u001b[0;34m(\u001b[0m\u001b[0;36m1\u001b[0m\u001b[0;34m-\u001b[0m\u001b[0malpha\u001b[0m\u001b[0;34m)\u001b[0m \u001b[0;34m*\u001b[0m \u001b[0mS0_over_d2\u001b[0m \u001b[0;34m*\u001b[0m \u001b[0mnp\u001b[0m\u001b[0;34m.\u001b[0m\u001b[0mcos\u001b[0m\u001b[0;34m(\u001b[0m\u001b[0mnp\u001b[0m\u001b[0;34m.\u001b[0m\u001b[0mdeg2rad\u001b[0m\u001b[0;34m(\u001b[0m\u001b[0mlambda_\u001b[0m\u001b[0;34m)\u001b[0m\u001b[0;34m)\u001b[0m \u001b[0;34m*\u001b[0m \u001b[0mnp\u001b[0m\u001b[0;34m.\u001b[0m\u001b[0mcos\u001b[0m\u001b[0;34m(\u001b[0m\u001b[0mtime_angle\u001b[0m\u001b[0;34m)\u001b[0m\u001b[0;34m)\u001b[0m \u001b[0;34m/\u001b[0m \u001b[0;34m(\u001b[0m\u001b[0mepsilon\u001b[0m \u001b[0;34m*\u001b[0m \u001b[0msigma\u001b[0m\u001b[0;34m)\u001b[0m \u001b[0;34m**\u001b[0m \u001b[0;36m0.25\u001b[0m\u001b[0;34m\u001b[0m\u001b[0;34m\u001b[0m\u001b[0m\n\u001b[0m\u001b[1;32m     14\u001b[0m \u001b[0;34m\u001b[0m\u001b[0m\n\u001b[1;32m     15\u001b[0m \u001b[0mtimes\u001b[0m \u001b[0;34m=\u001b[0m \u001b[0mnp\u001b[0m\u001b[0;34m.\u001b[0m\u001b[0marange\u001b[0m\u001b[0;34m(\u001b[0m\u001b[0;36m7\u001b[0m\u001b[0;34m,\u001b[0m \u001b[0;36m18\u001b[0m\u001b[0;34m)\u001b[0m\u001b[0;34m\u001b[0m\u001b[0;34m\u001b[0m\u001b[0m\n",
            "\u001b[0;31mNameError\u001b[0m: name 'alpha' is not defined"
          ]
        }
      ],
      "source": [
        "# Your code goes here\n",
        "import numpy as np\n",
        "import matplotlib.pyplot as plt\n",
        "\n",
        "t = time\n",
        "def moon_temperature( t, lambda_ ) :\n",
        "  sigma = 5.67e-8\n",
        "  alpha = 0.12\n",
        "  epsilon = 0.98\n",
        "  S0_over_d2 = 1361\n",
        "\n",
        "time_angle = np.deg2rad(15 * (t-12))\n",
        "temperature = ( (1-alpha) * S0_over_d2 * np.cos(np.deg2rad(lambda_)) * np.cos(time_angle)) / (epsilon * sigma) ** 0.25\n",
        "\n",
        "times = np.arange(7, 18)\n",
        "latitude = 30\n",
        "temperatures = [moon_temperature(t, latitude) for t in times]\n",
        "\n",
        "plt.plot(times, temperatures)\n",
        "plt.xlabel(\"Time of day\")\n",
        "plt.ylabel(\"Temperature at lattitude of 30 degrees / K.\")\n",
        "plt.title(\"Temperature at lattitude of 30 degrees\")\n",
        "plt.title( \"Temperature Variation on the moon\")\n",
        "plt.grid(True)\n",
        "\n",
        "\n",
        "\n",
        "\n",
        "\n",
        "# This code is required for the autofeedback- don't delete it!\n",
        "fighand = plt.gca()"
      ]
    },
    {
      "cell_type": "code",
      "execution_count": 28,
      "id": "2d255abc",
      "metadata": {
        "id": "2d255abc",
        "outputId": "1dbc4f72-7e65-4fc2-fc5e-013034d29d89",
        "colab": {
          "base_uri": "https://localhost:8080/"
        }
      },
      "outputs": [
        {
          "output_type": "stream",
          "name": "stdout",
          "text": [
            "\u001b[91mThe y-coordinates of the points in the data set\n",
            "'' are incorrect\n",
            "\n",
            "       The instructions in the README file explain the specific values\n",
            "       for the coordinates of the points in your graph.\n",
            "       Make sure you have read those instructions carefully and that you\n",
            "       know what the coordinates of the points in your graph should be\u001b[0m\n",
            "\u001b[93m==============================\n",
            "\u001b[0m\n"
          ]
        }
      ],
      "source": [
        "runtest([\"test_ex2\"])"
      ]
    },
    {
      "cell_type": "markdown",
      "id": "27fa6c8b",
      "metadata": {
        "id": "27fa6c8b"
      },
      "source": [
        "## Exercise 3\n",
        "\n",
        "Lets now suppose that we have a set of instruments for measuring the temperature of the at 10 degree intervals of lattitude.  In other words, we are measuring the temperature at lattitudes of 0, 10, 20, 30, 40, 50, 60, 70, 80, and 90 degrees.\n",
        "\n",
        "Suppose that we use these instruments to measure the temperaure at all these lattitudes at 10:00.  Can you use the model above to calculate the temperatures at all these lattitudes at this time so that we can compare the model with the results from our instruments.\n",
        "\n",
        "Draw a graph that shows the 10 results from your calculation.  The x-axis label should be \"latitude / degrees\" the y-axis label should be \"Temperature at 10:00 / K\"."
      ]
    },
    {
      "cell_type": "code",
      "execution_count": 30,
      "id": "aa33e6a8",
      "metadata": {
        "id": "aa33e6a8",
        "outputId": "a95fc412-f87a-42c5-e533-c00b053aef2a",
        "colab": {
          "base_uri": "https://localhost:8080/",
          "height": 472
        }
      },
      "outputs": [
        {
          "output_type": "display_data",
          "data": {
            "text/plain": [
              "<Figure size 640x480 with 1 Axes>"
            ],
            "image/png": "[encoded data removed]"
          },
          "metadata": {}
        }
      ],
      "source": [
        "# Your code goes here\n",
        "import numpy as np\n",
        "import matplotlib.pyplot as plt\n",
        "\n",
        "lattitudes = np.arange(0, 91, 10)\n",
        "time = 10\n",
        "temperatures = [moon_temperature(time, lat) for lat in lattitudes]\n",
        "\n",
        "plt.plot(lattitudes, temperatures, marker='o')\n",
        "plt.xlabel(\"Latitude / degrees\")\n",
        "plt.ylabel(\"Temperature at 10:00 / K\")\n",
        "plt.title(\"Lunar Temperature vc. Latitude at 10:00\")\n",
        "plt.grid(True)\n",
        "\n",
        "\n",
        "\n",
        "# This code is required for the autofeedback- don't delete it!\n",
        "fighand = plt.gca()\n"
      ]
    },
    {
      "cell_type": "code",
      "execution_count": 31,
      "id": "3a56a10f",
      "metadata": {
        "id": "3a56a10f",
        "outputId": "0b4916c2-d48c-4c1a-fd66-295d120fd92c",
        "colab": {
          "base_uri": "https://localhost:8080/"
        }
      },
      "outputs": [
        {
          "output_type": "stream",
          "name": "stdout",
          "text": [
            "\u001b[91mThe y-coordinates of the points in the data set\n",
            "'' are incorrect\n",
            "\n",
            "       The instructions in the README file explain the specific values\n",
            "       for the coordinates of the points in your graph.\n",
            "       Make sure you have read those instructions carefully and that you\n",
            "       know what the coordinates of the points in your graph should be\u001b[0m\n",
            "\u001b[93m==============================\n",
            "\u001b[0m\n"
          ]
        }
      ],
      "source": [
        "runtest([\"test_ex3\"])"
      ]
    },
    {
      "cell_type": "markdown",
      "id": "fd460438",
      "metadata": {
        "id": "fd460438"
      },
      "source": [
        "## Exercise 4\n",
        "\n",
        "Let's now suppose that we undertake a journey on the moon.  At the start of this journey we are at lattitude `initial_lattitude` and the time is `start_time`.  The journey takes `duration` lunar hours to complete and ends in `final_latitude`.  Can you write a function called `temperature_change` that takes these four parameters in input and that returns the difference in the temperature at the start and end of our journey.\n",
        "\n",
        "_HINT: You should include two calls to the `moon_temperature` function that you wrote for exercise 1 in the new function you are writing for this exercise._\n",
        "\n",
        "You should be able to use this function to answer question 2 on the quiz."
      ]
    },
    {
      "cell_type": "code",
      "execution_count": null,
      "id": "93dbda07",
      "metadata": {
        "id": "93dbda07"
      },
      "outputs": [],
      "source": [
        "def temperature_change( initial_latitude, start_time, duration, final_latitude ) :"
      ]
    },
    {
      "cell_type": "code",
      "execution_count": null,
      "id": "0d89db25",
      "metadata": {
        "id": "0d89db25"
      },
      "outputs": [],
      "source": [
        "runtest([\"test_ex4\"])"
      ]
    },
    {
      "cell_type": "markdown",
      "id": "726a9885",
      "metadata": {
        "id": "726a9885"
      },
      "source": [
        "## Exercise 5\n",
        "\n",
        "Suppose that you take a journey on the moon that takes you along a line of longitude so that your lattitude will not change.  Does the model above tell us that the temperature changes as you move?\n",
        "\n",
        "It is tempting to say no in answer to this question as the model tells us that the temperature only depends on the lattitude and that it does not depend on the longitude.  Importantly, however, in giving this answer you are assuming that the journey takes zero time.  In other words, you are assuming that you travel instantaneously from point A to point B.  This type of instantaneous travel is not possible.  The journey will take a finite time and the temperature will thus change because the model tells us that the temperature at a particular lattitude depends upon the time of day.\n",
        "\n",
        "You task in this exercise is thus to consider a journey on the moon along the 25 degree lattitude.  This journey starts at 7:00 and takes 11 lunar hours.  Plot a graph that shows how the temperature changes over the course of this journey.\n",
        "\n",
        "In drawing this graph you should plot points that show the temperature at 7:00, 8:00, 9:00, 10:00, 11:00, 12:00, 13:00, 14:00, 15:00, 16:00 and 17:00 lunar time.  You can then draw a line between these points.  The x-axis label should be \"time / lunar hours\" and the y-axis label should be \"temperature at latitude 25 degrees / Kelvin\"."
      ]
    },
    {
      "cell_type": "code",
      "execution_count": null,
      "id": "07431528",
      "metadata": {
        "id": "07431528"
      },
      "outputs": [],
      "source": [
        "# Your code goes here\n",
        "\n",
        "\n",
        "\n",
        "\n",
        "\n",
        "\n",
        "\n",
        "\n",
        "# This code is required for the autofeedback- don't delete it!\n",
        "fighand = plt.gca()\n"
      ]
    },
    {
      "cell_type": "code",
      "execution_count": null,
      "id": "3867076d",
      "metadata": {
        "id": "3867076d"
      },
      "outputs": [],
      "source": [
        "runtest([\"test_ex5\"])"
      ]
    },
    {
      "cell_type": "markdown",
      "id": "de60076c",
      "metadata": {
        "id": "de60076c"
      },
      "source": [
        "## Exercise 6\n",
        "\n",
        "Lets now suppose that you take a journey on the moon from the equator (lattitude 90 degrees) to lattitude 35 degrees. You start this journey at 07:00 lunar time and it takes 11 hours.  You are thus travelling at a speed of 5 degrees per lunar hour.  Use the cell below to draw a graph that shows how the temperature changes over the course of this journey.\n",
        "\n",
        "As in the exercise above, in drawing this graph you should plot points that show the temperature at 7:00, 8:00, 9:00, 10:00, 11:00, 12:00, 13:00, 14:00, 15:00, 16:00 and 17:00 lunar time. You can then draw a line between these points. Importantly, however, you will be at a different lattitude at each of those times as you undertake this new journey.  \n",
        "\n",
        "The x-axis label for your graph should be \"time / lunar hours\" and the y-axis label should be \"temperature / K\"."
      ]
    },
    {
      "cell_type": "code",
      "execution_count": null,
      "id": "e5e37076",
      "metadata": {
        "id": "e5e37076"
      },
      "outputs": [],
      "source": [
        "# Your code goes here\n",
        "\n",
        "\n",
        "\n",
        "\n",
        "\n",
        "\n",
        "\n",
        "\n",
        "# This code is required for the autofeedback- don't delete it!\n",
        "fighand = plt.gca()\n"
      ]
    },
    {
      "cell_type": "code",
      "execution_count": null,
      "id": "65e6cc34",
      "metadata": {
        "id": "65e6cc34"
      },
      "outputs": [],
      "source": [
        "runtest([\"test_ex6\"])"
      ]
    },
    {
      "cell_type": "markdown",
      "id": "b865fba6",
      "metadata": {
        "id": "b865fba6"
      },
      "source": [
        "## Exercise 7\n",
        "\n",
        "This final exercise is your chance to combine everything that you have learned during this course.  I want you to make a graph showing how the temperature changes during the course of a journey along the moon.  \n",
        "\n",
        "Once you have completed your graph, I would like you to insert it into  a short report that describes the journey that you chose to study. The quiz contains a question that allows you to submit your report.\n",
        "\n",
        "There is plenty of scope for creativity here.  For example, you could:\n",
        "\n",
        "* Have the transport travel at different speeds at different times.  \n",
        "* Have part of the journey with travel parallel to a particular longitude direction and other parts with travel parallel to a particular lattitude.\n",
        "* Have parts of the journey where the transport is accelerating/decelerating rather than travelling at a constant speed as was assumed in the previous examples."
      ]
    },
    {
      "cell_type": "code",
      "execution_count": 29,
      "id": "f4fe019f",
      "metadata": {
        "id": "f4fe019f",
        "outputId": "a024c49d-2648-4c28-c18a-157aa95bdc35",
        "colab": {
          "base_uri": "https://localhost:8080/",
          "height": 472
        }
      },
      "outputs": [
        {
          "output_type": "display_data",
          "data": {
            "text/plain": [
              "<Figure size 640x480 with 1 Axes>"
            ],
            "image/png": "[encoded data removed]"
          },
          "metadata": {}
        }
      ],
      "source": [
        "# prompt: Create a graph showing the temperature changes during the course of a journey of the apollo 17 mission along the moon.\n",
        "\n",
        "import matplotlib.pyplot as plt\n",
        "import numpy as np\n",
        "\n",
        "def moon_temperature(t, lambda_):\n",
        "  sigma = 5.67e-8\n",
        "  alpha = 0.12\n",
        "  epsilon = 0.98\n",
        "  S0_over_d2 = 1361\n",
        "  temperature = ((1 - alpha) * S0_over_d2 * np.cos(np.deg2rad(lambda_)) * np.cos(np.deg2rad(15 * (t - 12)))) / (epsilon * sigma) ** 0.25\n",
        "  return temperature\n",
        "\n",
        "# Example journey: Apollo 17 landing site\n",
        "#  (This is just an example; you can customize the journey.)\n",
        "start_time = 7  # Lunar hours\n",
        "end_time = 17  # Lunar hours\n",
        "times = np.arange(start_time, end_time + 1)\n",
        "\n",
        "# Simulate a journey with varying latitude\n",
        "initial_latitude = 20\n",
        "final_latitude = 3  # Apollo 17 landing site is near 3°S\n",
        "latitude_change = (final_latitude - initial_latitude) / (len(times) - 1)\n",
        "latitudes = [initial_latitude + i * latitude_change for i in range(len(times))]\n",
        "\n",
        "temperatures = [moon_temperature(t, lat) for t, lat in zip(times, latitudes)]\n",
        "\n",
        "\n",
        "plt.plot(times, temperatures)\n",
        "plt.xlabel(\"Time / Lunar hours\")\n",
        "plt.ylabel(\"Temperature / K\")\n",
        "plt.title(\"Temperature Change During Apollo 17-like Journey\")\n",
        "plt.grid(True)\n",
        "plt.show()\n"
      ]
    }
  ],
  "metadata": {
    "kernelspec": {
      "display_name": "Python 3 (ipykernel)",
      "language": "python",
      "name": "python3"
    },
    "language_info": {
      "codemirror_mode": {
        "name": "ipython",
        "version": 3
      },
      "file_extension": ".py",
      "mimetype": "text/x-python",
      "name": "python",
      "nbconvert_exporter": "python",
      "pygments_lexer": "ipython3",
      "version": "3.9.19"
    },
    "colab": {
      "provenance": []
    }
  },
  "nbformat": 4,
  "nbformat_minor": 5
}